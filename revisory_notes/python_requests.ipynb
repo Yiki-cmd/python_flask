{
 "cells": [
  {
   "cell_type": "code",
   "execution_count": 4,
   "metadata": {},
   "outputs": [
    {
     "name": "stdout",
     "output_type": "stream",
     "text": [
      "Defaulting to user installation because normal site-packages is not writeable\n",
      "Requirement already satisfied: requests in /home/awet/.local/lib/python3.11/site-packages (2.32.3)\n",
      "Requirement already satisfied: charset-normalizer<4,>=2 in /home/awet/.local/lib/python3.11/site-packages (from requests) (3.4.0)\n",
      "Requirement already satisfied: idna<4,>=2.5 in /home/awet/.local/lib/python3.11/site-packages (from requests) (3.10)\n",
      "Requirement already satisfied: urllib3<3,>=1.21.1 in /home/awet/.local/lib/python3.11/site-packages (from requests) (2.2.3)\n",
      "Requirement already satisfied: certifi>=2017.4.17 in /home/awet/.local/lib/python3.11/site-packages (from requests) (2024.12.14)\n",
      "Note: you may need to restart the kernel to use updated packages.\n"
     ]
    }
   ],
   "source": [
    "%pip install requests --break-system-packages"
   ]
  },
  {
   "cell_type": "code",
   "execution_count": 3,
   "metadata": {},
   "outputs": [],
   "source": [
    "import requests\n",
    "from http import HTTPStatus\n",
    "BASE_URL = \"http://localhost:4000\""
   ]
  },
  {
   "cell_type": "code",
   "execution_count": 5,
   "metadata": {},
   "outputs": [
    {
     "data": {
      "text/plain": [
       "{'data': {'content': 'happy new year', 'id': 3, 'title': 'new year'},\n",
       " 'success': 'Post created'}"
      ]
     },
     "metadata": {},
     "output_type": "display_data"
    }
   ],
   "source": [
    "# create posts /posts method POST\n",
    "post_url = f\"{BASE_URL}/posts\"\n",
    "payload =  {\"id\":3, \"title\": \"new year\", \"content\": \"happy new year\"}\n",
    "\n",
    "response = requests.post(url=post_url, json=payload)\n",
    "\n",
    "status_code = response.status_code \n",
    "\n",
    "if status_code == HTTPStatus.BAD_REQUEST:\n",
    "    display(response.json())\n",
    "    \n",
    "if status_code == HTTPStatus.CONFLICT:\n",
    "    display(response.json())\n",
    "    \n",
    "if status_code == HTTPStatus.CREATED:\n",
    "    display(response.json())\n",
    "    \n"
   ]
  },
  {
   "cell_type": "code",
   "execution_count": null,
   "metadata": {},
   "outputs": [],
   "source": [
    "# get posts /posts method GET\n",
    "post_id = 3\n",
    "get_url = f\"{BASE_URL}/posts/{post_id}\"\n",
    "\n",
    "response = requests.get(url=get_url)\n",
    "status_code = response.status_code \n",
    "\n",
    "if status_code == HTTPStatus.NOT_FOUND:\n",
    "    display(response.json())\n",
    "    \n",
    "if status_code == HTTPStatus.OK:\n",
    "    display(response.json())"
   ]
  },
  {
   "cell_type": "code",
   "execution_count": null,
   "metadata": {},
   "outputs": [],
   "source": [
    "# get posts /posts method PUT\n",
    "post_id = 3\n",
    "put_url = f\"{BASE_URL}/posts/{post_id}\"\n",
    "payload =  { \"title\": \"new year again\", \"content\": \"happy new year again\"}\n",
    "\n",
    "response = requests.put(url=put_url, json=payload)\n",
    "status_code = response.status_code \n",
    "\n",
    "\n",
    "if status_code == HTTPStatus.BAD_REQUEST:\n",
    "    display(response.json())\n",
    "    \n",
    "if status_code == HTTPStatus.NOT_FOUND:\n",
    "    display(response.json())\n",
    "    \n",
    "if status_code == HTTPStatus.OK:\n",
    "    display(response.json())"
   ]
  },
  {
   "cell_type": "code",
   "execution_count": 47,
   "metadata": {},
   "outputs": [
    {
     "data": {
      "text/plain": [
       "<Response [204]>"
      ]
     },
     "metadata": {},
     "output_type": "display_data"
    }
   ],
   "source": [
    "# get posts /posts method DELETE\n",
    "post_id = 3\n",
    "delete_url = f\"{BASE_URL}/posts/{post_id}\"\n",
    "\n",
    "response = requests.delete(url=delete_url)\n",
    "status_code = response.status_code \n",
    "\n",
    "\n",
    "if status_code == HTTPStatus.NOT_FOUND:\n",
    "    display(response.json())\n",
    "    \n",
    "    \n",
    "if status_code == HTTPStatus.NO_CONTENT:\n",
    "    display(response)\n",
    "    "
   ]
  },
  {
   "cell_type": "code",
   "execution_count": 52,
   "metadata": {},
   "outputs": [],
   "source": [
    "import requests\n",
    "from http import HTTPStatus\n",
    "BASE_URL = \"http://localhost:5000\""
   ]
  },
  {
   "cell_type": "code",
   "execution_count": 66,
   "metadata": {},
   "outputs": [
    {
     "data": {
      "text/plain": [
       "{'data': {'content': 'some', 'id': 3, 'post_id': 1},\n",
       " 'success': 'Comment created'}"
      ]
     },
     "metadata": {},
     "output_type": "display_data"
    }
   ],
   "source": [
    "# create comment /comment method POST\n",
    "comment_post_url = f\"{BASE_URL}/comment\"\n",
    "comment_payload =  {\"id\": 3, \"content\": \"some\", \"post_id\": 1}\n",
    "\n",
    "response = requests.post(url=comment_post_url, json=comment_payload)\n",
    "\n",
    "status_code = response.status_code \n",
    "\n",
    "if status_code == HTTPStatus.BAD_REQUEST:\n",
    "    display(response.json())\n",
    "    \n",
    "if status_code == HTTPStatus.CONFLICT:\n",
    "    display(response.json())\n",
    "    \n",
    "if status_code == HTTPStatus.CREATED:\n",
    "    display(response.json())\n",
    "    \n"
   ]
  },
  {
   "cell_type": "code",
   "execution_count": 57,
   "metadata": {},
   "outputs": [
    {
     "data": {
      "text/plain": [
       "{'comment': {'content': 'some', 'id': 3, 'post_id': 1}, 'id': 3}"
      ]
     },
     "metadata": {},
     "output_type": "display_data"
    }
   ],
   "source": [
    "# get posts /comment method GET\n",
    "comment_id = 3\n",
    "comment_get_url = f\"{BASE_URL}/comment/{comment_id}\"\n",
    "\n",
    "response = requests.get(url=comment_get_url)\n",
    "status_code = response.status_code \n",
    "\n",
    "if status_code == HTTPStatus.NOT_FOUND:\n",
    "    display(response.json())\n",
    "    \n",
    "if status_code == HTTPStatus.OK:\n",
    "    display(response.json())"
   ]
  },
  {
   "cell_type": "code",
   "execution_count": 65,
   "metadata": {},
   "outputs": [
    {
     "data": {
      "text/plain": [
       "{'comment': {'content': 'somesss', 'post_id': 3}, 'id': 3}"
      ]
     },
     "metadata": {},
     "output_type": "display_data"
    }
   ],
   "source": [
    "# get posts /comment method PUT\n",
    "comment_id = 3\n",
    "comment_put_url = f\"{BASE_URL}/comment/{comment_id}\"\n",
    "comment_payload =  {\"id\": 3, \"content\": \"somesss\", \"post_id\":3}\n",
    "\n",
    "response = requests.put(url=comment_put_url, json=comment_payload)\n",
    "status_code = response.status_code \n",
    "\n",
    "\n",
    "if status_code == HTTPStatus.BAD_REQUEST:\n",
    "    display(response.json())\n",
    "    \n",
    "if status_code == HTTPStatus.NOT_FOUND:\n",
    "    display(response.json())\n",
    "    \n",
    "if status_code == HTTPStatus.OK:\n",
    "    display(response.json())"
   ]
  },
  {
   "cell_type": "code",
   "execution_count": 67,
   "metadata": {},
   "outputs": [
    {
     "data": {
      "text/plain": [
       "<Response [204]>"
      ]
     },
     "metadata": {},
     "output_type": "display_data"
    }
   ],
   "source": [
    "# get posts /comment method DELETE\n",
    "comment_id = 3\n",
    "comment_delete_url = f\"{BASE_URL}/comment/{comment_id}\"\n",
    "\n",
    "response = requests.delete(url=comment_delete_url)\n",
    "status_code = response.status_code \n",
    "\n",
    "\n",
    "if status_code == HTTPStatus.NOT_FOUND:\n",
    "    display(response.json())\n",
    "    \n",
    "    \n",
    "if status_code == HTTPStatus.NO_CONTENT:\n",
    "    display(response)\n",
    "    "
   ]
  }
 ],
 "metadata": {
  "kernelspec": {
   "display_name": "Python 3",
   "language": "python",
   "name": "python3"
  },
  "language_info": {
   "codemirror_mode": {
    "name": "ipython",
    "version": 3
   },
   "file_extension": ".py",
   "mimetype": "text/x-python",
   "name": "python",
   "nbconvert_exporter": "python",
   "pygments_lexer": "ipython3",
   "version": "3.11.2"
  }
 },
 "nbformat": 4,
 "nbformat_minor": 2
}
