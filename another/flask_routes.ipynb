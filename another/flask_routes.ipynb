{
 "cells": [
  {
   "cell_type": "code",
   "execution_count": 1,
   "metadata": {},
   "outputs": [
    {
     "name": "stdout",
     "output_type": "stream",
     "text": [
      "Defaulting to user installation because normal site-packages is not writeable\n",
      "Requirement already satisfied: flask in /home/awet/.local/lib/python3.11/site-packages (3.1.0)\n",
      "Requirement already satisfied: Werkzeug>=3.1 in /home/awet/.local/lib/python3.11/site-packages (from flask) (3.1.3)\n",
      "Requirement already satisfied: Jinja2>=3.1.2 in /home/awet/.local/lib/python3.11/site-packages (from flask) (3.1.5)\n",
      "Requirement already satisfied: itsdangerous>=2.2 in /home/awet/.local/lib/python3.11/site-packages (from flask) (2.2.0)\n",
      "Requirement already satisfied: click>=8.1.3 in /home/awet/.local/lib/python3.11/site-packages (from flask) (8.1.8)\n",
      "Requirement already satisfied: blinker>=1.9 in /home/awet/.local/lib/python3.11/site-packages (from flask) (1.9.0)\n",
      "Requirement already satisfied: MarkupSafe>=2.0 in /home/awet/.local/lib/python3.11/site-packages (from Jinja2>=3.1.2->flask) (3.0.2)\n",
      "Defaulting to user installation because normal site-packages is not writeable\n",
      "Requirement already satisfied: flask-restx in /home/awet/.local/lib/python3.11/site-packages (1.3.0)\n",
      "Requirement already satisfied: aniso8601>=0.82 in /home/awet/.local/lib/python3.11/site-packages (from flask-restx) (9.0.1)\n",
      "Requirement already satisfied: jsonschema in /home/awet/.local/lib/python3.11/site-packages (from flask-restx) (4.23.0)\n",
      "Requirement already satisfied: Flask!=2.0.0,>=0.8 in /home/awet/.local/lib/python3.11/site-packages (from flask-restx) (3.1.0)\n",
      "Requirement already satisfied: werkzeug!=2.0.0 in /home/awet/.local/lib/python3.11/site-packages (from flask-restx) (3.1.3)\n",
      "Requirement already satisfied: pytz in /home/awet/.local/lib/python3.11/site-packages (from flask-restx) (2024.2)\n",
      "Requirement already satisfied: importlib-resources in /home/awet/.local/lib/python3.11/site-packages (from flask-restx) (6.4.5)\n",
      "Requirement already satisfied: Jinja2>=3.1.2 in /home/awet/.local/lib/python3.11/site-packages (from Flask!=2.0.0,>=0.8->flask-restx) (3.1.5)\n",
      "Requirement already satisfied: itsdangerous>=2.2 in /home/awet/.local/lib/python3.11/site-packages (from Flask!=2.0.0,>=0.8->flask-restx) (2.2.0)\n",
      "Requirement already satisfied: click>=8.1.3 in /home/awet/.local/lib/python3.11/site-packages (from Flask!=2.0.0,>=0.8->flask-restx) (8.1.8)\n",
      "Requirement already satisfied: blinker>=1.9 in /home/awet/.local/lib/python3.11/site-packages (from Flask!=2.0.0,>=0.8->flask-restx) (1.9.0)\n",
      "Requirement already satisfied: MarkupSafe>=2.1.1 in /home/awet/.local/lib/python3.11/site-packages (from werkzeug!=2.0.0->flask-restx) (3.0.2)\n",
      "Requirement already satisfied: attrs>=22.2.0 in /home/awet/.local/lib/python3.11/site-packages (from jsonschema->flask-restx) (24.3.0)\n",
      "Requirement already satisfied: jsonschema-specifications>=2023.03.6 in /home/awet/.local/lib/python3.11/site-packages (from jsonschema->flask-restx) (2024.10.1)\n",
      "Requirement already satisfied: referencing>=0.28.4 in /home/awet/.local/lib/python3.11/site-packages (from jsonschema->flask-restx) (0.35.1)\n",
      "Requirement already satisfied: rpds-py>=0.7.1 in /home/awet/.local/lib/python3.11/site-packages (from jsonschema->flask-restx) (0.22.3)\n"
     ]
    }
   ],
   "source": [
    "!pip install flask --break-system-packages\n",
    "!pip install flask-restx --break-system-packages\n",
    "\n"
   ]
  },
  {
   "cell_type": "code",
   "execution_count": null,
   "metadata": {},
   "outputs": [],
   "source": [
    "import nest_asyncio\n",
    "from flask import Flask,jsonify\n",
    "from werkzeug.serving import run_simple\n",
    "\n",
    "nest_asyncio "
   ]
  },
  {
   "cell_type": "code",
   "execution_count": null,
   "metadata": {},
   "outputs": [
    {
     "name": "stderr",
     "output_type": "stream",
     "text": [
      "\u001b[31m\u001b[1mWARNING: This is a development server. Do not use it in a production deployment. Use a production WSGI server instead.\u001b[0m\n",
      " * Running on http://localhost:5000\n",
      "\u001b[33mPress CTRL+C to quit\u001b[0m\n"
     ]
    }
   ],
   "source": [
    "import nest_asyncio\n",
    "from flask import Flask, jsonify, request\n",
    "from flask_restx import Api, Resource, Namespace\n",
    "from werkzeug.serving import run_simple\n",
    "\n",
    "    # Allow Flask to run in Jupyter\n",
    "nest_asyncio.apply()\n",
    "\n",
    "app = Flask(__name__)\n",
    "\n",
    "api = Api(app, \n",
    "          title='Message Example API with Path Variables and Parameters', \n",
    "          version='1.0', \n",
    "          description='An example API demonstrating CRUD operations, path variables, and query parameters.')\n",
    "\n",
    "# Create a Namespace for the API\n",
    "message_example_ns = Namespace('messages', description='Message Operations with Path Variables and Query Parameters')\n",
    "\n",
    "@message_example_ns.route('/<string:name>') # for instance name = adam => localhost:5000/adam\n",
    "class GreetMessage(Resource):\n",
    "    def get(self, name):\n",
    "        \"\"\"\n",
    "        A simple API to greet a user by name (path variable).\n",
    "        \"\"\"\n",
    "        return {\"message\": f\"Hello, {name}!\"}, 200\n",
    "\n",
    "@message_example_ns.route('/query')\n",
    "class QueryMessage(Resource):\n",
    "    def get(self):\n",
    "        \"\"\"\n",
    "        A simple API to demonstrate query parameters.\n",
    "        \"\"\"\n",
    "        name = request.args.get('name', 'Guest')\n",
    "        age = request.args.get('age')\n",
    "        if age:\n",
    "            return {\"message\": f\"Hello, {name}! You are {age} years old.\"}, 200\n",
    "        return {\"message\": f\"Hello, {name}!\"}, 200\n",
    "\n",
    "# Add the Namespace to the API\n",
    "api.add_namespace(message_example_ns, path='/messages')\n",
    "\n",
    "# Run the app in Jupyter\n",
    "run_simple('localhost', 5000, app)"
   ]
  },
  {
   "cell_type": "code",
   "execution_count": 5,
   "metadata": {},
   "outputs": [],
   "source": [
    "import nest_asyncio\n",
    "from flask import Flask, jsonify\n",
    "from werkzeug.serving import run_simple"
   ]
  },
  {
   "cell_type": "code",
   "execution_count": 7,
   "metadata": {},
   "outputs": [],
   "source": [
    "nest_asyncio.apply()\n",
    "app = Flask(__name__)\n",
    "@app.route('/hello', methods=['GET'])\n",
    "def hello_world():\n",
    "    run_simple('localhost', 5000, app, use_debugger=True )"
   ]
  },
  {
   "cell_type": "code",
   "execution_count": 8,
   "metadata": {},
   "outputs": [
    {
     "name": "stderr",
     "output_type": "stream",
     "text": [
      "\u001b[31m\u001b[1mWARNING: This is a development server. Do not use it in a production deployment. Use a production WSGI server instead.\u001b[0m\n",
      " * Running on http://localhost:5000\n",
      "\u001b[33mPress CTRL+C to quit\u001b[0m\n",
      "127.0.0.1 - - [22/Dec/2024 21:03:19] \"\u001b[33mGET / HTTP/1.1\u001b[0m\" 404 -\n",
      "127.0.0.1 - - [22/Dec/2024 21:03:19] \"\u001b[33mGET /favicon.ico HTTP/1.1\u001b[0m\" 404 -\n"
     ]
    }
   ],
   "source": [
    "import nest_asyncio\n",
    "from flask import Flask, jsonify\n",
    "from werkzeug.serving import run_simple\n",
    "\n",
    "# Allow Flask to run in Jupyter\n",
    "nest_asyncio.apply()\n",
    "\"\"\" \n",
    "In Python, the __name__ variable is a special built-in variable that is automatically set by the interpreter. Its value depends on how the Python script is executed. Here's how it works:\n",
    "\n",
    "1. When the script is run directly\n",
    "If the Python script is executed directly (e.g., python script.py), the __name__ variable is set to \"__main__\". This indicates that the script is being run as the main program.\n",
    "\n",
    "2. When the script is imported as a module\n",
    "If the script is imported into another script (e.g., import script), the __name__ variable is set to the name of the module (the filename without the .py extension).\n",
    "\"\"\"\n",
    "app = Flask(__name__)\n",
    "\n",
    "# http://localhost:5000/hello # complete route /hello short route\n",
    "# address = localhost:5000 , endpoint=/hello [ address + endpoint ] = url or route\n",
    "@app.route('/hello', methods=['GET'])\n",
    "def hello_world():\n",
    "    \"\"\"\n",
    "    A simple Hello World API.\n",
    "    \"\"\"\n",
    "    return jsonify({\"message\": \"Hello, World!\"}) # from this =>{\"message\": \"Hello, World!\"},  to this \"{\\\"message\\\": \\\"Hello, World!\\\"}\"\n",
    "\n",
    "# Run the app in Jupyter\n",
    "run_simple('localhost', 5000, app, use_debugger=True )"
   ]
  }
 ],
 "metadata": {
  "kernelspec": {
   "display_name": "Python 3",
   "language": "python",
   "name": "python3"
  },
  "language_info": {
   "codemirror_mode": {
    "name": "ipython",
    "version": 3
   },
   "file_extension": ".py",
   "mimetype": "text/x-python",
   "name": "python",
   "nbconvert_exporter": "python",
   "pygments_lexer": "ipython3",
   "version": "3.11.2"
  }
 },
 "nbformat": 4,
 "nbformat_minor": 2
}
